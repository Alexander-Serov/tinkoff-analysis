{
 "cells": [
  {
   "cell_type": "code",
   "execution_count": null,
   "metadata": {},
   "outputs": [],
   "source": [
    "%load_ext autoreload\n",
    "\n",
    "%autoreload 2\n",
    "%matplotlib inline\n",
    "\n",
    "import datetime as dt\n",
    "\n",
    "import matplotlib\n",
    "import matplotlib.cm as mplcm\n",
    "import matplotlib.colors as colors\n",
    "import matplotlib.pyplot as plt\n",
    "import numpy as np\n",
    "import pandas as pd\n",
    "import pytz\n",
    "from analysis import History, get_etfs_history, get_ticker_history\n",
    "\n",
    "MOSCOW_TIMEZONE = pytz.timezone('Europe/Moscow')\n",
    "\n",
    "# From rest\n",
    "# client = openapi.sandbox_api_client(token)\n",
    "# client.sandbox.sandbox_register_post()\n",
    "# client.sandbox.sandbox_clear_post()\n",
    "# client.sandbox.sandbox_currencies_balance_post(sandbox_set_currency_balance_request={\"currency\": \"USD\", \"balance\": 1000})\n",
    "\n",
    "\n",
    "# From streaming\n",
    "# candle_subs = [{'figi': 'BBG000B9XRY4', 'interval': '1min'}, {'figi': 'BBG009S39JX6', 'interval': '1min'}]\n",
    "# orderbook_subs = [{'figi': 'BBG0013HGFT4', 'depth': 1}, {'figi': 'BBG009S39JX6', 'depth': 3}]\n",
    "# instrument_info_subs = [{'figi': 'BBG000B9XRY4'}, {'figi': 'BBG009S39JX6'}]\n",
    "\n",
    "# run_stream_consumer(token,\n",
    "#                     candle_subs, orderbook_subs, instrument_info_subs,\n",
    "#                     on_candle_event=print_event,\n",
    "#                     on_orderbook_event=print_event,\n",
    "#                     on_instrument_info_event=print_event)"
   ]
  },
  {
   "cell_type": "code",
   "execution_count": null,
   "metadata": {},
   "outputs": [],
   "source": [
    "end = dt.datetime.now(dt.timezone.utc)\n",
    "start = end - dt.timedelta(weeks=52)\n",
    "interval = \"day\"\n",
    "ticker = \"FXGD\"\n",
    "\n",
    "# print(etfs)\n",
    "\n",
    "\n",
    "# print(market.market_candles_get(figi=figi, _from=start.isoformat(), to=end.isoformat(), interval=interval))\n",
    "# ['payload']['instruments'][0]['figi']\n",
    "\n",
    "ticker_history = get_ticker_history(\n",
    "    ticker=ticker, start=start, end=end, interval=interval\n",
    ")"
   ]
  },
  {
   "cell_type": "code",
   "execution_count": null,
   "metadata": {},
   "outputs": [],
   "source": [
    "plt.figure()\n",
    "plt.plot(ticker_history[\"time\"].values, ticker_history[\"c\"])\n",
    "plt.title(ticker)"
   ]
  },
  {
   "cell_type": "code",
   "execution_count": null,
   "metadata": {},
   "outputs": [],
   "source": [
    "etfs_history, etf_tickers = get_etfs_history()"
   ]
  },
  {
   "cell_type": "markdown",
   "metadata": {},
   "source": [
    "## Download and store history"
   ]
  },
  {
   "cell_type": "code",
   "execution_count": null,
   "metadata": {},
   "outputs": [],
   "source": [
    "hist_daily = History(interval=\"day\")\n",
    "# display(hist_daily.data.time.dtype)\n",
    "hist_daily.update(reload=0)\n",
    "hist_daily.data"
   ]
  },
  {
   "cell_type": "code",
   "execution_count": null,
   "metadata": {},
   "outputs": [],
   "source": [
    "hist_daily.data.time.max()"
   ]
  },
  {
   "cell_type": "code",
   "execution_count": null,
   "metadata": {},
   "outputs": [],
   "source": [
    "data = hist_daily.data\n",
    "tickers = hist_daily.tickers\n",
    "# print(data['time'].dtype)\n",
    "\n",
    "M = len(hist_daily.tickers)\n",
    "cm = plt.get_cmap(\"gist_rainbow\")\n",
    "cNorm = colors.Normalize(vmin=0, vmax=M - 1)\n",
    "scalarMap = mplcm.ScalarMappable(norm=cNorm, cmap=cm)\n",
    "\n",
    "\n",
    "def get_last_not_nan(lst):\n",
    "    for el in lst[::-1]:\n",
    "        if not np.isnan(el):\n",
    "            return el\n",
    "\n",
    "    return np.nan\n",
    "\n",
    "\n",
    "plt.figure(figsize=(20, 10))\n",
    "ax = plt.gca()\n",
    "ax.set_prop_cycle(color=[scalarMap.to_rgba(i) for i in range(M)])\n",
    "for ticker in tickers:\n",
    "    filter = data.ticker == ticker\n",
    "    t = data.loc[filter, \"time\"].values\n",
    "    y = data.loc[filter, \"c\"].values  # / get_last_not_nan(data[ticker+'_c']) * 100\n",
    "    #     print(ticker, y)\n",
    "    plt.plot(t, y, label=ticker)\n",
    "\n",
    "plt.ylabel(\"Price\")\n",
    "plt.xlabel(\"Time\")\n",
    "plt.legend()\n",
    "\n",
    "plt.figure(figsize=(20, 10))\n",
    "ax = plt.gca()\n",
    "ax.set_prop_cycle(color=[scalarMap.to_rgba(i) for i in range(M)])\n",
    "for ticker in tickers:\n",
    "    filter = data.ticker == ticker\n",
    "    t = data.loc[filter, \"time\"].values\n",
    "    y = data.loc[filter, \"c\"] / get_last_not_nan(data.loc[filter, \"c\"]) * 100\n",
    "    plt.plot(t, y, label=ticker)\n",
    "\n",
    "plt.ylabel(\"Price, % (100%=now)\")\n",
    "plt.xlabel(\"Time\")\n",
    "plt.legend()"
   ]
  },
  {
   "cell_type": "markdown",
   "metadata": {},
   "source": [
    "## Basic calculate_statistics"
   ]
  },
  {
   "cell_type": "code",
   "execution_count": null,
   "metadata": {},
   "outputs": [],
   "source": [
    "hist_daily.calculate_statistics()"
   ]
  },
  {
   "cell_type": "code",
   "execution_count": null,
   "metadata": {},
   "outputs": [],
   "source": []
  },
  {
   "cell_type": "code",
   "execution_count": null,
   "metadata": {},
   "outputs": [],
   "source": []
  }
 ],
 "metadata": {
  "kernelspec": {
   "display_name": "Python 3",
   "language": "python",
   "name": "python3"
  },
  "language_info": {
   "codemirror_mode": {
    "name": "ipython",
    "version": 3
   },
   "file_extension": ".py",
   "mimetype": "text/x-python",
   "name": "python",
   "nbconvert_exporter": "python",
   "pygments_lexer": "ipython3",
   "version": "3.7.6"
  },
  "toc": {
   "base_numbering": 1,
   "nav_menu": {},
   "number_sections": true,
   "sideBar": true,
   "skip_h1_title": false,
   "title_cell": "Table of Contents",
   "title_sidebar": "Contents",
   "toc_cell": false,
   "toc_position": {
    "height": "calc(100% - 180px)",
    "left": "10px",
    "top": "150px",
    "width": "175.11029052734375px"
   },
   "toc_section_display": true,
   "toc_window_display": true
  }
 },
 "nbformat": 4,
 "nbformat_minor": 4
}
