{
 "cells": [
  {
   "cell_type": "code",
   "execution_count": null,
   "metadata": {},
   "outputs": [],
   "source": [
    "%load_ext autoreload\n",
    "\n",
    "%autoreload 2\n",
    "%matplotlib inline\n",
    "\n",
    "import datetime as dt\n",
    "\n",
    "import matplotlib\n",
    "import matplotlib.cm as mplcm\n",
    "import matplotlib.colors as colors\n",
    "import matplotlib.pyplot as plt\n",
    "import numpy as np\n",
    "import pandas as pd\n",
    "import pytz\n",
    "from history import History\n",
    "\n",
    "pd.set_option(\"display.max_columns\", 100)"
   ]
  },
  {
   "cell_type": "markdown",
   "metadata": {},
   "source": [
    "## Download and store history"
   ]
  },
  {
   "cell_type": "code",
   "execution_count": null,
   "metadata": {},
   "outputs": [],
   "source": [
    "hist_daily = History(interval=\"day\")\n",
    "hist_daily.update(reload=False)\n",
    "hist_daily.data  # Should be 28600 + rows"
   ]
  },
  {
   "cell_type": "code",
   "execution_count": null,
   "metadata": {},
   "outputs": [],
   "source": [
    "ticker = \"FXGD\"\n",
    "end = dt.datetime.now(dt.timezone.utc)\n",
    "start = end - dt.timedelta(weeks=52)\n",
    "interval = \"day\"\n",
    "\n",
    "ticker_history = hist_daily.get_ticker_history(ticker, start, end, interval)\n",
    "ticker_history"
   ]
  },
  {
   "cell_type": "code",
   "execution_count": null,
   "metadata": {},
   "outputs": [],
   "source": [
    "plt.figure()\n",
    "plt.plot(ticker_history[\"time\"].values, ticker_history[\"c\"])\n",
    "plt.title(ticker)"
   ]
  },
  {
   "cell_type": "code",
   "execution_count": null,
   "metadata": {},
   "outputs": [],
   "source": [
    "etfs_history, etf_tickers = hist_daily.get_etfs_history()\n",
    "print(len(etf_tickers), etf_tickers)"
   ]
  },
  {
   "cell_type": "code",
   "execution_count": null,
   "metadata": {},
   "outputs": [],
   "source": [
    "hist_daily.data"
   ]
  },
  {
   "cell_type": "code",
   "execution_count": null,
   "metadata": {},
   "outputs": [],
   "source": [
    "data = hist_daily.data\n",
    "tickers = hist_daily.tickers\n",
    "# print(data['time'].dtype)\n",
    "\n",
    "M = len(hist_daily.tickers)\n",
    "cm = plt.get_cmap(\"gist_rainbow\")\n",
    "cNorm = colors.Normalize(vmin=0, vmax=M - 1)\n",
    "scalarMap = mplcm.ScalarMappable(norm=cNorm, cmap=cm)\n",
    "\n",
    "\n",
    "def get_last_not_nan(lst):\n",
    "    for el in lst[::-1]:\n",
    "        if not np.isnan(el):\n",
    "            return el\n",
    "\n",
    "    return np.nan\n",
    "\n",
    "\n",
    "plt.figure(figsize=(20, 10))\n",
    "ax = plt.gca()\n",
    "ax.set_prop_cycle(color=[scalarMap.to_rgba(i) for i in range(M)])\n",
    "for ticker in tickers:\n",
    "    filter = data.ticker == ticker\n",
    "    t = data.loc[filter, \"time\"].values\n",
    "    y = data.loc[filter, \"c\"].values  # / get_last_not_nan(data[ticker+'_c']) * 100\n",
    "    #     print(ticker, y)\n",
    "    plt.plot(t, y, label=ticker)\n",
    "\n",
    "plt.ylabel(\"Price\")\n",
    "plt.xlabel(\"Time\")\n",
    "plt.legend()\n",
    "\n",
    "plt.figure(figsize=(20, 10))\n",
    "ax = plt.gca()\n",
    "ax.set_prop_cycle(color=[scalarMap.to_rgba(i) for i in range(M)])\n",
    "for ticker in tickers:\n",
    "    filter = data.ticker == ticker\n",
    "    t = data.loc[filter, \"time\"].values\n",
    "    y = data.loc[filter, \"c\"] / get_last_not_nan(data.loc[filter, \"c\"]) * 100\n",
    "    plt.plot(t, y, label=ticker)\n",
    "\n",
    "plt.ylabel(\"Price, % (100%=now)\")\n",
    "plt.xlabel(\"Time\")\n",
    "plt.legend()"
   ]
  },
  {
   "cell_type": "markdown",
   "metadata": {},
   "source": [
    "## Basic calculate_statistics"
   ]
  },
  {
   "cell_type": "code",
   "execution_count": null,
   "metadata": {},
   "outputs": [],
   "source": [
    "hist_daily.calculate_statistics()"
   ]
  },
  {
   "cell_type": "markdown",
   "metadata": {},
   "source": [
    "## Basic recommend"
   ]
  },
  {
   "cell_type": "code",
   "execution_count": null,
   "metadata": {},
   "outputs": [],
   "source": [
    "a = hist_daily.data.groupby([\"ticker\", \"time\"]).count()\n",
    "a[a[\"o\"] > 1]"
   ]
  },
  {
   "cell_type": "code",
   "execution_count": null,
   "metadata": {},
   "outputs": [],
   "source": [
    "a = hist_daily.data\n",
    "a[\n",
    "    (a[\"ticker\"] == \"VTBG\")\n",
    "    & (a[\"time\"] > dt.datetime.now(dt.timezone.utc) - dt.timedelta(weeks=1))\n",
    "]"
   ]
  },
  {
   "cell_type": "code",
   "execution_count": null,
   "metadata": {},
   "outputs": [],
   "source": [
    "hist_daily.recommend_simple()"
   ]
  },
  {
   "cell_type": "code",
   "execution_count": null,
   "metadata": {},
   "outputs": [],
   "source": [
    "hist_daily.recommend_other()"
   ]
  },
  {
   "cell_type": "code",
   "execution_count": null,
   "metadata": {},
   "outputs": [],
   "source": []
  }
 ],
 "metadata": {
  "kernelspec": {
   "display_name": "Python 3",
   "language": "python",
   "name": "python3"
  },
  "language_info": {
   "codemirror_mode": {
    "name": "ipython",
    "version": 3
   },
   "file_extension": ".py",
   "mimetype": "text/x-python",
   "name": "python",
   "nbconvert_exporter": "python",
   "pygments_lexer": "ipython3",
   "version": "3.7.1"
  },
  "toc": {
   "base_numbering": 1,
   "nav_menu": {},
   "number_sections": true,
   "sideBar": true,
   "skip_h1_title": false,
   "title_cell": "Table of Contents",
   "title_sidebar": "Contents",
   "toc_cell": false,
   "toc_position": {
    "height": "calc(100% - 180px)",
    "left": "10px",
    "top": "150px",
    "width": "175.11029052734375px"
   },
   "toc_section_display": true,
   "toc_window_display": true
  }
 },
 "nbformat": 4,
 "nbformat_minor": 4
}
